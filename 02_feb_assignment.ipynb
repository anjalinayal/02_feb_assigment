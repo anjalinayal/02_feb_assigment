{
 "cells": [
  {
   "cell_type": "code",
   "execution_count": 3,
   "id": "5be985d1-213f-4202-a138-f346683b65bd",
   "metadata": {},
   "outputs": [],
   "source": [
    "# Q1 \n",
    "# Use a for loop to iterate over an array.\n",
    "# Use a for loop when you know the loop should execute n times.\n",
    "# Use a while loop for reading a file into a variable.\n",
    "# Use a while loop when asking for user input.\n",
    "# Use a while loop when the increment value is nonstandard."
   ]
  },
  {
   "cell_type": "code",
   "execution_count": 4,
   "id": "e4e3f342-8ac0-4228-9ef4-12a079ee8af3",
   "metadata": {},
   "outputs": [
    {
     "name": "stdout",
     "output_type": "stream",
     "text": [
      "55 3628800\n"
     ]
    }
   ],
   "source": [
    "# Q2 :-\n",
    "sum=0\n",
    "product=1\n",
    "for n in range(1,11):\n",
    "    sum=sum + n\n",
    "    product = product *n\n",
    "print(sum,product)"
   ]
  },
  {
   "cell_type": "code",
   "execution_count": 5,
   "id": "ed8ad31e-693f-4cd0-b79e-e88470bfe131",
   "metadata": {},
   "outputs": [
    {
     "name": "stdout",
     "output_type": "stream",
     "text": [
      "55 3628800\n"
     ]
    }
   ],
   "source": [
    "n=1\n",
    "sum=0\n",
    "product=1\n",
    "while n<=10:\n",
    "    sum=sum+n\n",
    "    product=product*n\n",
    "    n=n+1\n",
    "print(sum, product)"
   ]
  },
  {
   "cell_type": "code",
   "execution_count": 10,
   "id": "da9aed93-e956-4164-a4de-c341a6f8d288",
   "metadata": {},
   "outputs": [
    {
     "name": "stdin",
     "output_type": "stream",
     "text": [
      "enter the units consumed 200\n"
     ]
    },
    {
     "name": "stdout",
     "output_type": "stream",
     "text": [
      "your bill is  1050.0\n"
     ]
    }
   ],
   "source": [
    "a=int(input(\"enter the units consumed\"))\n",
    "n=0\n",
    "if a <=100 :\n",
    "    print(\"your bill is \",a*4.5)\n",
    "elif a>100 and a<=200:\n",
    "    n = a - 100\n",
    "    print (\"your bill is \" , 100*4.5 + n*6)\n",
    "elif a >200 and a<=300:\n",
    "    n = a-200\n",
    "    print (\"your bill is \" , 100*4.5 + 100*6 + n*10)\n",
    "else:\n",
    "    n = a-300\n",
    "    print (\"your bill is \", 100+4.5 + 100*6 + 100*10 + n*20)"
   ]
  },
  {
   "cell_type": "code",
   "execution_count": 14,
   "id": "da587f64-614a-4455-8a08-dee9aba544ac",
   "metadata": {},
   "outputs": [
    {
     "name": "stdout",
     "output_type": "stream",
     "text": [
      "[2, 4, 5, 6, 8, 10, 12, 14, 15, 16, 18, 20, 22, 24, 25, 26, 28, 30, 32, 34, 35, 36, 38, 40, 42, 44, 45, 46, 48, 50, 52, 54, 55, 56, 58, 60, 62, 64, 65, 66, 68, 70, 72, 74, 75, 76, 78, 80, 82, 84, 85, 86, 88, 90, 92, 94, 95, 96, 98, 100]\n"
     ]
    }
   ],
   "source": [
    "i=1\n",
    "num=[]\n",
    "cube_list=[]\n",
    "while i<=100:\n",
    "    num.append(i)\n",
    "    i=i+1\n",
    "for j in num:\n",
    "    a=j**3\n",
    "    if a%4==0 or a%5==0:\n",
    "        cube_list.append(j)\n",
    "print(cube_list)"
   ]
  },
  {
   "cell_type": "code",
   "execution_count": 18,
   "id": "ac7776f7-4319-418b-8dc7-e4d9635b8184",
   "metadata": {},
   "outputs": [
    {
     "name": "stdout",
     "output_type": "stream",
     "text": [
      "11\n"
     ]
    }
   ],
   "source": [
    "string = \"I want to become a data scientist\"\n",
    "vowel = \"aeiou\"\n",
    "count=0\n",
    "for i in string:\n",
    "    for j in vowel:\n",
    "        if i==j:\n",
    "            count=count+1\n",
    "print(count)"
   ]
  },
  {
   "cell_type": "code",
   "execution_count": null,
   "id": "0cdacf86-80b3-4c72-9630-306d9ddc04d0",
   "metadata": {},
   "outputs": [],
   "source": []
  }
 ],
 "metadata": {
  "kernelspec": {
   "display_name": "Python 3 (ipykernel)",
   "language": "python",
   "name": "python3"
  },
  "language_info": {
   "codemirror_mode": {
    "name": "ipython",
    "version": 3
   },
   "file_extension": ".py",
   "mimetype": "text/x-python",
   "name": "python",
   "nbconvert_exporter": "python",
   "pygments_lexer": "ipython3",
   "version": "3.10.6"
  }
 },
 "nbformat": 4,
 "nbformat_minor": 5
}
